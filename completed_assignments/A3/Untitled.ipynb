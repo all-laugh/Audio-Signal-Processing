{
 "cells": [
  {
   "cell_type": "code",
   "execution_count": 1,
   "metadata": {},
   "outputs": [],
   "source": [
    "import sys\n",
    "sys.path.append('../../software/models/')\n",
    "from dftModel import dftAnal, dftSynth\n",
    "from scipy.signal import get_window\n",
    "import matplotlib.pyplot as plt\n",
    "import numpy as np\n",
    "\"\"\"\n",
    "A3-Part-4: Suppressing frequency components using DFT model\n",
    "\n",
    "Given a frame of the signal, write a function that uses the dftModel functions to suppress all the \n",
    "frequency components <= 70Hz in the signal and returns the output of the dftModel \n",
    "with and without filtering. \n",
    "\n",
    "You will use the DFT model to implement a very basic form of filtering to suppress frequency components. \n",
    "When working close to mains power lines, there is a 50/60 Hz hum that can get introduced into the \n",
    "audio signal. You will try to remove that using a basic DFT model based filter. You will work on just \n",
    "one frame of a synthetic audio signal to see the effect of filtering. \n",
    "\n",
    "You can use the functions dftAnal and dftSynth provided by the dftModel file of sms-tools. Use dftAnal \n",
    "to obtain the magnitude spectrum (in dB) and phase spectrum of the audio signal. Set the values of \n",
    "the magnitude spectrum that correspond to frequencies <= 70 Hz to -120dB (there may not be a bin \n",
    "corresponding exactly to 70 Hz, choose the nearest bin of equal or higher frequency, e.g., using np.ceil()).\n",
    "If you have doubts converting from frequency (Hz) to bins, you can review the beginning of theory lecture 2T1.\n",
    "\n",
    "Use dftSynth to synthesize the filtered output signal and return the output. The function should also return the \n",
    "output of dftSynth without any filtering (without altering the magnitude spectrum in any way). \n",
    "You will use a hamming window to smooth the signal. Hence, do not forget to scale the output signals \n",
    "by the sum of the window values (as done in sms-tools/software/models_interface/dftModel_function.py). \n",
    "To understand the effect of filtering, you can plot both the filtered output and non-filtered output \n",
    "of the dftModel. \n",
    "\n",
    "Please note that this question is just for illustrative purposes and filtering is not usually done \n",
    "this way - such sharp cutoffs introduce artifacts in the output. \n",
    "\n",
    "The input is a M length input signal x that contains undesired frequencies below 70 Hz, sampling \n",
    "frequency fs and the FFT size N. The output is a tuple with two elements (y, yfilt), where y is the \n",
    "output of dftModel with the unaltered original signal and yfilt is the filtered output of the dftModel.\n",
    "\n",
    "Caveat: In python (as well as numpy) variable assignment is by reference. if you assign B = A, and \n",
    "modify B, the value of A also gets modified. If you do not want this to happen, consider using B = A.copy(). \n",
    "This creates a copy of A and assigns it to B, and hence, you can modify B without affecting A.\n",
    "\n",
    "Test case 1: For an input signal with 40 Hz, 100 Hz, 200 Hz, 1000 Hz components, yfilt will only contain\n",
    "100 Hz, 200 Hz and 1000 Hz components. \n",
    "\n",
    "Test case 2: For an input signal with 23 Hz, 36 Hz, 230 Hz, 900 Hz, 2300 Hz components, yfilt will only contain\n",
    "230 Hz, 900 Hz and 2300 Hz components. \n",
    "\"\"\"\n",
    "def suppressFreqDFTmodel(x, fs, N):\n",
    "    \"\"\"\n",
    "    Inputs:\n",
    "        x (numpy array) = input signal of length M (odd)\n",
    "        fs (float) = sampling frequency (Hz)\n",
    "        N (positive integer) = FFT size\n",
    "    Outputs:\n",
    "        The function should return a tuple (y, yfilt)\n",
    "        y (numpy array) = Output of the dftSynth() without filtering (M samples long)\n",
    "        yfilt (numpy array) = Output of the dftSynth() with filtering (M samples long)\n",
    "    The first few lines of the code have been written for you, do not modify it. \n",
    "    \"\"\"\n",
    "    M = len(x)\n",
    "    w = get_window('hamming', M)\n",
    "    outputScaleFactor = sum(w)\n",
    "    \n",
    "    binSize = fs/N\n",
    "    mX, pX = dftAnal(x, w, N)\n",
    "    k = int(np.ceil(70.0/binSize))\n",
    "    filt = np.ones(k)*(-120)\n",
    "    mX_filt = mX.copy()[:k] * filt[:]\n",
    "    \n",
    "    y = outputScaleFactor * dftSynth(mX, pX, M)\n",
    "    y_filt = outputScaleFactor * dftSynth(mX_filt, pX, M)\n",
    "    \n",
    "    return (y, y_filt)\n",
    "    \n",
    "\n"
   ]
  },
  {
   "cell_type": "code",
   "execution_count": 7,
   "metadata": {},
   "outputs": [],
   "source": [
    "x = np.array([1,2,3,4,5,6])"
   ]
  },
  {
   "cell_type": "code",
   "execution_count": 8,
   "metadata": {},
   "outputs": [
    {
     "name": "stdout",
     "output_type": "stream",
     "text": [
      "[4 5 6]\n"
     ]
    }
   ],
   "source": [
    "print(x[-3:])"
   ]
  },
  {
   "cell_type": "code",
   "execution_count": 9,
   "metadata": {},
   "outputs": [
    {
     "name": "stdout",
     "output_type": "stream",
     "text": [
      "[1 2 3]\n"
     ]
    }
   ],
   "source": [
    "print(x[:3])"
   ]
  },
  {
   "cell_type": "code",
   "execution_count": null,
   "metadata": {},
   "outputs": [],
   "source": []
  }
 ],
 "metadata": {
  "kernelspec": {
   "display_name": "Python 3",
   "language": "python",
   "name": "python3"
  },
  "language_info": {
   "codemirror_mode": {
    "name": "ipython",
    "version": 3
   },
   "file_extension": ".py",
   "mimetype": "text/x-python",
   "name": "python",
   "nbconvert_exporter": "python",
   "pygments_lexer": "ipython3",
   "version": "3.7.6"
  }
 },
 "nbformat": 4,
 "nbformat_minor": 4
}
